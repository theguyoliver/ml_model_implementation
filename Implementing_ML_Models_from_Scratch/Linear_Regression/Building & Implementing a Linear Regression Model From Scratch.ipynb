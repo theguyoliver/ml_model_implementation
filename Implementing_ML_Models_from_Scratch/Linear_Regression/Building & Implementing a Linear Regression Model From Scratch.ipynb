{
 "cells": [
  {
   "cell_type": "raw",
   "id": "a6a0356e-e2ca-46cb-8fc2-04af52a5b62e",
   "metadata": {},
   "source": [
    "Importing relevant dependencies"
   ]
  },
  {
   "cell_type": "code",
   "execution_count": 65,
   "id": "dbb30d04-e516-4b91-9ede-3d7fcf5d5810",
   "metadata": {},
   "outputs": [],
   "source": [
    "import numpy as np\n",
    "import pandas as pd\n",
    "import matplotlib.pyplot as plt\n",
    "from sklearn.model_selection import train_test_split"
   ]
  },
  {
   "cell_type": "code",
   "execution_count": 66,
   "id": "1f459ede-eb2b-4fab-863b-4e2180bc1e5e",
   "metadata": {},
   "outputs": [
    {
     "data": {
      "text/html": [
       "<div>\n",
       "<style scoped>\n",
       "    .dataframe tbody tr th:only-of-type {\n",
       "        vertical-align: middle;\n",
       "    }\n",
       "\n",
       "    .dataframe tbody tr th {\n",
       "        vertical-align: top;\n",
       "    }\n",
       "\n",
       "    .dataframe thead th {\n",
       "        text-align: right;\n",
       "    }\n",
       "</style>\n",
       "<table border=\"1\" class=\"dataframe\">\n",
       "  <thead>\n",
       "    <tr style=\"text-align: right;\">\n",
       "      <th></th>\n",
       "      <th>YearsExperience</th>\n",
       "      <th>Salary</th>\n",
       "    </tr>\n",
       "  </thead>\n",
       "  <tbody>\n",
       "    <tr>\n",
       "      <th>0</th>\n",
       "      <td>1.1</td>\n",
       "      <td>39343</td>\n",
       "    </tr>\n",
       "    <tr>\n",
       "      <th>1</th>\n",
       "      <td>1.3</td>\n",
       "      <td>46205</td>\n",
       "    </tr>\n",
       "    <tr>\n",
       "      <th>2</th>\n",
       "      <td>1.5</td>\n",
       "      <td>37731</td>\n",
       "    </tr>\n",
       "    <tr>\n",
       "      <th>3</th>\n",
       "      <td>2.0</td>\n",
       "      <td>43525</td>\n",
       "    </tr>\n",
       "    <tr>\n",
       "      <th>4</th>\n",
       "      <td>2.2</td>\n",
       "      <td>39891</td>\n",
       "    </tr>\n",
       "  </tbody>\n",
       "</table>\n",
       "</div>"
      ],
      "text/plain": [
       "   YearsExperience  Salary\n",
       "0              1.1   39343\n",
       "1              1.3   46205\n",
       "2              1.5   37731\n",
       "3              2.0   43525\n",
       "4              2.2   39891"
      ]
     },
     "execution_count": 66,
     "metadata": {},
     "output_type": "execute_result"
    }
   ],
   "source": [
    "# Loading the dataset \n",
    "\n",
    "salary_data = pd.read_csv('C:\\\\Users\\\\admin\\\\Documents\\\\My books\\\\Machine Learning Pathway\\\\Datasets\\\\salary_data.csv')\n",
    "salary_data.head()"
   ]
  },
  {
   "cell_type": "code",
   "execution_count": null,
   "id": "d71ac296-a958-46a7-a16e-6444188d6725",
   "metadata": {},
   "outputs": [],
   "source": []
  },
  {
   "cell_type": "raw",
   "id": "93d818f1-cad8-4e8a-a199-5455b5daf879",
   "metadata": {},
   "source": [
    "Data Pre-processing"
   ]
  },
  {
   "cell_type": "code",
   "execution_count": 67,
   "id": "5e9e4471-5736-48ed-af94-4b04a0ec3085",
   "metadata": {},
   "outputs": [
    {
     "data": {
      "text/plain": [
       "(30, 2)"
      ]
     },
     "execution_count": 67,
     "metadata": {},
     "output_type": "execute_result"
    }
   ],
   "source": [
    "# Checking the shape of the dataset\n",
    "\n",
    "salary_data.shape"
   ]
  },
  {
   "cell_type": "code",
   "execution_count": 68,
   "id": "d4d7f1df-e681-4e59-a212-b9ac0b54173b",
   "metadata": {},
   "outputs": [
    {
     "data": {
      "text/plain": [
       "YearsExperience    0\n",
       "Salary             0\n",
       "dtype: int64"
      ]
     },
     "execution_count": 68,
     "metadata": {},
     "output_type": "execute_result"
    }
   ],
   "source": [
    "# Checking for missing values\n",
    "\n",
    "salary_data.isnull().sum()"
   ]
  },
  {
   "cell_type": "code",
   "execution_count": 69,
   "id": "aeb31645-8896-423a-bb65-7a76d4c69a51",
   "metadata": {},
   "outputs": [
    {
     "name": "stdout",
     "output_type": "stream",
     "text": [
      "[[ 1.1]\n",
      " [ 1.3]\n",
      " [ 1.5]\n",
      " [ 2. ]\n",
      " [ 2.2]\n",
      " [ 2.9]\n",
      " [ 3. ]\n",
      " [ 3.2]\n",
      " [ 3.2]\n",
      " [ 3.7]\n",
      " [ 3.9]\n",
      " [ 4. ]\n",
      " [ 4. ]\n",
      " [ 4.1]\n",
      " [ 4.5]\n",
      " [ 4.9]\n",
      " [ 5.1]\n",
      " [ 5.3]\n",
      " [ 5.9]\n",
      " [ 6. ]\n",
      " [ 6.8]\n",
      " [ 7.1]\n",
      " [ 7.9]\n",
      " [ 8.2]\n",
      " [ 8.7]\n",
      " [ 9. ]\n",
      " [ 9.5]\n",
      " [ 9.6]\n",
      " [10.3]\n",
      " [10.5]] \n",
      "\n",
      "\n",
      "[ 39343  46205  37731  43525  39891  56642  60150  54445  64445  57189\n",
      "  63218  55794  56957  57081  61111  67938  66029  83088  81363  93940\n",
      "  91738  98273 101302 113812 109431 105582 116969 112635 122391 121872]\n"
     ]
    }
   ],
   "source": [
    "# Seperating the dataset into feature and target\n",
    "\n",
    "x = salary_data.iloc[:, :-1].values  #the .values part converts the dataframe into a numpy array free from index and column names\n",
    "y = salary_data.iloc[:, 1].values\n",
    "\n",
    "print(x,'\\n\\n')\n",
    "print(y)"
   ]
  },
  {
   "cell_type": "code",
   "execution_count": null,
   "id": "d6bfe03b-6089-4eca-8914-c59c0b978f10",
   "metadata": {},
   "outputs": [],
   "source": []
  },
  {
   "cell_type": "raw",
   "id": "1f2257f6-6277-4078-a8c0-b2d356950a63",
   "metadata": {},
   "source": [
    "Train Test Split"
   ]
  },
  {
   "cell_type": "code",
   "execution_count": 70,
   "id": "13df985e-1008-44a3-9a91-d9603792b4ef",
   "metadata": {},
   "outputs": [
    {
     "name": "stdout",
     "output_type": "stream",
     "text": [
      "(30, 1) (20, 1) (10, 1)\n"
     ]
    }
   ],
   "source": [
    "x_train, x_test, y_train, y_test = train_test_split(x,y,test_size=0.33,random_state=2)\n",
    "print(x.shape, x_train.shape, x_test.shape)"
   ]
  },
  {
   "cell_type": "code",
   "execution_count": null,
   "id": "35aa7c11-bc13-4bb4-af42-21f43b1de32b",
   "metadata": {},
   "outputs": [],
   "source": []
  },
  {
   "cell_type": "raw",
   "id": "ec206c71-c87b-4771-b72a-92e4d1c381ee",
   "metadata": {},
   "source": [
    "Model Building"
   ]
  },
  {
   "cell_type": "code",
   "execution_count": 71,
   "id": "1951acbc-ebab-4dbe-a9eb-af5939154ce4",
   "metadata": {},
   "outputs": [],
   "source": [
    "# Developing our linear regression model from scratch\n",
    "\n",
    "class Linear_Regression():\n",
    "    \n",
    "    def __init__(self, learning_rate, no_of_iterations):\n",
    "        # Initializing our hyperparameters\n",
    "        self.learning_rate = learning_rate\n",
    "        self.no_of_iterations = no_of_iterations\n",
    "\n",
    "    \n",
    "    def fit(self, x, y):\n",
    "        # Initializing the number of features of the dataset and the number of datapoints or samples\n",
    "        self.ns, self.nf = x.shape   # This outputs a tuple with two values, so the first goes to our first variable and same with the second.\n",
    "        \n",
    "        # Initailizing inputs(x,y) and model parameters(weights and bias)\n",
    "        self.x = x\n",
    "        self.y = y\n",
    "        self.w = np.zeros(self.nf) # Here, each feature should have a weight value so we asign each a value of zero(number of zeros = number of features)\n",
    "        self.b = 0    # Irrespective of the number of the features in the dataset, we always have a single intercept hence our bias can take an int value\n",
    "\n",
    "        # Implementing gradient decent\n",
    "        for i in range(self.no_of_iterations):\n",
    "            self.updating_parameters()\n",
    "\n",
    "    \n",
    "    def updating_parameters(self):\n",
    "        # Checking the prediction of our model based on the model parameters obtained thus far\n",
    "        prediction = self.predict(self.x)\n",
    "\n",
    "        # Initiating dw and db for calculating new weights and bais of data feature(s)\n",
    "        dw = -(2 * (self.x.T).dot(self.y - prediction))/self.ns\n",
    "        db = -(2 * np.sum(self.y - prediction))/self.ns\n",
    "\n",
    "        # Updating model parameter values\n",
    "        self.w = self.w - self.learning_rate*dw\n",
    "        self.b = self.b - self.learning_rate*db\n",
    "\n",
    "    \n",
    "    def predict(self, x):\n",
    "        return np.dot(x,self.w) + self.b"
   ]
  },
  {
   "cell_type": "code",
   "execution_count": 72,
   "id": "216223c3-343f-49d4-bda1-9792c0556312",
   "metadata": {},
   "outputs": [],
   "source": [
    "# loading an instance of the model\n",
    "\n",
    "model = Linear_Regression(learning_rate=0.02, no_of_iterations=1000)"
   ]
  },
  {
   "cell_type": "code",
   "execution_count": 73,
   "id": "075e3960-db3b-49b7-9d16-4d9671b25db5",
   "metadata": {},
   "outputs": [],
   "source": [
    "# Training our linear regression model\n",
    "\n",
    "model.fit(x_train, y_train)"
   ]
  },
  {
   "cell_type": "code",
   "execution_count": null,
   "id": "9c704efe-ec5d-4f3c-bc7f-23bb63ba8054",
   "metadata": {},
   "outputs": [],
   "source": []
  },
  {
   "cell_type": "raw",
   "id": "d1e13931-e8db-45ee-b60a-ae26eab43094",
   "metadata": {},
   "source": [
    "Model Evaluation"
   ]
  },
  {
   "cell_type": "code",
   "execution_count": 74,
   "id": "57ad18cd-4db9-46c0-ba18-b473446ef9aa",
   "metadata": {},
   "outputs": [
    {
     "data": {
      "text/plain": [
       "array([ 36066.12780588,  34163.24760607,  66512.21100279,  58900.69020357,\n",
       "        91249.65360029,  80783.81250135, 101715.49469922,  52240.60950424,\n",
       "        42726.20850521,  88395.33330058])"
      ]
     },
     "execution_count": 74,
     "metadata": {},
     "output_type": "execute_result"
    }
   ],
   "source": [
    "test_prediction = model.predict(x_test)\n",
    "test_prediction"
   ]
  },
  {
   "cell_type": "code",
   "execution_count": 75,
   "id": "db29bf54-ad44-40c0-ad8d-5020e0f4ed50",
   "metadata": {},
   "outputs": [
    {
     "data": {
      "image/png": "[encoded data removed]",
      "text/plain": [
       "<Figure size 640x480 with 1 Axes>"
      ]
     },
     "metadata": {},
     "output_type": "display_data"
    }
   ],
   "source": [
    "# Plotting the actual values and estimated values to visualize the loss function\n",
    "\n",
    "plt.scatter(x_test, y_test, color='red')\n",
    "plt.plot(x_test, test_prediction, color='blue')\n",
    "plt.xlabel(' Years of Experience')\n",
    "plt.ylabel('Salary')\n",
    "plt.title('Years of Experience vs Salary')\n",
    "plt.show()"
   ]
  }
 ],
 "metadata": {
  "kernelspec": {
   "display_name": "Python 3 (ipykernel)",
   "language": "python",
   "name": "python3"
  },
  "language_info": {
   "codemirror_mode": {
    "name": "ipython",
    "version": 3
   },
   "file_extension": ".py",
   "mimetype": "text/x-python",
   "name": "python",
   "nbconvert_exporter": "python",
   "pygments_lexer": "ipython3",
   "version": "3.12.4"
  }
 },
 "nbformat": 4,
 "nbformat_minor": 5
}
